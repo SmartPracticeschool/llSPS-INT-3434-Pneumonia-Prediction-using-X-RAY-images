{
 "cells": [
  {
   "cell_type": "markdown",
   "metadata": {},
   "source": [
    "Pneumonia Detection from X-Ray by images\n",
    "\n",
    "BHIMAVARAM BHAVANI"
   ]
  },
  {
   "cell_type": "markdown",
   "metadata": {},
   "source": [
    "# Model Building"
   ]
  },
  {
   "cell_type": "markdown",
   "metadata": {},
   "source": [
    "### Importing the required libraries"
   ]
  },
  {
   "cell_type": "code",
   "execution_count": 1,
   "metadata": {},
   "outputs": [],
   "source": [
    "import numpy as np\n",
    "import matplotlib.pyplot as plt\n",
    "%matplotlib inline\n",
    "from tensorflow.keras.layers import Input,Conv2D,MaxPooling2D,Dropout,Flatten,Dense,Activation,BatchNormalization,add\n",
    "from tensorflow.keras.models  import Model,Sequential\n",
    "from tensorflow.keras.preprocessing.image import ImageDataGenerator\n",
    "from tensorflow.keras.utils import plot_model\n",
    "from tensorflow.keras.applications.vgg16 import VGG16,preprocess_input\n",
    "import os"
   ]
  },
  {
   "cell_type": "markdown",
   "metadata": {},
   "source": [
    "### Loading the VGG16 mode"
   ]
  },
  {
   "cell_type": "code",
   "execution_count": 2,
   "metadata": {},
   "outputs": [
    {
     "name": "stdout",
     "output_type": "stream",
     "text": [
      "Model: \"model\"\n",
      "_________________________________________________________________\n",
      "Layer (type)                 Output Shape              Param #   \n",
      "=================================================================\n",
      "input_1 (InputLayer)         [(None, 224, 224, 3)]     0         \n",
      "_________________________________________________________________\n",
      "block1_conv1 (Conv2D)        (None, 224, 224, 64)      1792      \n",
      "_________________________________________________________________\n",
      "block1_conv2 (Conv2D)        (None, 224, 224, 64)      36928     \n",
      "_________________________________________________________________\n",
      "block1_pool (MaxPooling2D)   (None, 112, 112, 64)      0         \n",
      "_________________________________________________________________\n",
      "block2_conv1 (Conv2D)        (None, 112, 112, 128)     73856     \n",
      "_________________________________________________________________\n",
      "block2_conv2 (Conv2D)        (None, 112, 112, 128)     147584    \n",
      "_________________________________________________________________\n",
      "block2_pool (MaxPooling2D)   (None, 56, 56, 128)       0         \n",
      "_________________________________________________________________\n",
      "block3_conv1 (Conv2D)        (None, 56, 56, 256)       295168    \n",
      "_________________________________________________________________\n",
      "block3_conv2 (Conv2D)        (None, 56, 56, 256)       590080    \n",
      "_________________________________________________________________\n",
      "block3_conv3 (Conv2D)        (None, 56, 56, 256)       590080    \n",
      "_________________________________________________________________\n",
      "block3_pool (MaxPooling2D)   (None, 28, 28, 256)       0         \n",
      "_________________________________________________________________\n",
      "block4_conv1 (Conv2D)        (None, 28, 28, 512)       1180160   \n",
      "_________________________________________________________________\n",
      "block4_conv2 (Conv2D)        (None, 28, 28, 512)       2359808   \n",
      "_________________________________________________________________\n",
      "block4_conv3 (Conv2D)        (None, 28, 28, 512)       2359808   \n",
      "_________________________________________________________________\n",
      "block4_pool (MaxPooling2D)   (None, 14, 14, 512)       0         \n",
      "_________________________________________________________________\n",
      "block5_conv1 (Conv2D)        (None, 14, 14, 512)       2359808   \n",
      "_________________________________________________________________\n",
      "block5_conv2 (Conv2D)        (None, 14, 14, 512)       2359808   \n",
      "_________________________________________________________________\n",
      "block5_conv3 (Conv2D)        (None, 14, 14, 512)       2359808   \n",
      "_________________________________________________________________\n",
      "block5_pool (MaxPooling2D)   (None, 7, 7, 512)         0         \n",
      "_________________________________________________________________\n",
      "flatten (Flatten)            (None, 25088)             0         \n",
      "_________________________________________________________________\n",
      "dense (Dense)                (None, 2)                 50178     \n",
      "=================================================================\n",
      "Total params: 14,764,866\n",
      "Trainable params: 50,178\n",
      "Non-trainable params: 14,714,688\n",
      "_________________________________________________________________\n"
     ]
    }
   ],
   "source": [
    "# Initializing VGG16 model\n",
    "vgg = VGG16(weights= 'imagenet', include_top = False, input_shape = (224,224,3))\n",
    "# include_top = False (loads full model without LAST fully connected layers) \n",
    "\n",
    "\n",
    "for layer in vgg.layers:\n",
    "    layer.trainable = False #making all the layers non-trainable\n",
    "    \n",
    "    \n",
    "# Flattening out the last layer    \n",
    "x = Flatten()(vgg.output)\n",
    "\n",
    "\n",
    "# Adding a dense layer\n",
    "# To determine if the person is Healthy of Pneumonitic\n",
    "predictions = Dense(2,activation='softmax')(x) \n",
    "\n",
    "\n",
    "model = Model(inputs=vgg.input, outputs=predictions)\n",
    "model.summary()"
   ]
  },
  {
   "cell_type": "markdown",
   "metadata": {},
   "source": [
    "### Data Generator Initialization for trainning the model"
   ]
  },
  {
   "cell_type": "code",
   "execution_count": 3,
   "metadata": {},
   "outputs": [],
   "source": [
    "# Getting current directory\n",
    "base_dir = os.getcwd() \n",
    "\n",
    "# Defining the input shape\n",
    "target_shape = (224,224) \n",
    "\n",
    "train_dir = base_dir+\"\\\\chest_xray\\\\train\" # \n",
    "val_dir = base_dir+\"\\\\chest_xray\\\\val\"     # -- Directories for data\n",
    "test_dir = base_dir+\"\\\\chest_xray\\\\test\"   # "
   ]
  },
  {
   "cell_type": "markdown",
   "metadata": {},
   "source": [
    "#### Loading the VGG16 model with Imagenet weights without the Fully Connected layers"
   ]
  },
  {
   "cell_type": "code",
   "execution_count": 4,
   "metadata": {},
   "outputs": [],
   "source": [
    "vgg = VGG16(weights= 'imagenet', include_top = False, input_shape = (224,224,3))\n",
    "for layer in vgg.layers:\n",
    "    layer.trainable = False # Making all the layers non-trainable\n",
    "    "
   ]
  },
  {
   "cell_type": "code",
   "execution_count": 5,
   "metadata": {},
   "outputs": [
    {
     "name": "stdout",
     "output_type": "stream",
     "text": [
      "Model: \"model_1\"\n",
      "_________________________________________________________________\n",
      "Layer (type)                 Output Shape              Param #   \n",
      "=================================================================\n",
      "input_2 (InputLayer)         [(None, 224, 224, 3)]     0         \n",
      "_________________________________________________________________\n",
      "block1_conv1 (Conv2D)        (None, 224, 224, 64)      1792      \n",
      "_________________________________________________________________\n",
      "block1_conv2 (Conv2D)        (None, 224, 224, 64)      36928     \n",
      "_________________________________________________________________\n",
      "block1_pool (MaxPooling2D)   (None, 112, 112, 64)      0         \n",
      "_________________________________________________________________\n",
      "block2_conv1 (Conv2D)        (None, 112, 112, 128)     73856     \n",
      "_________________________________________________________________\n",
      "block2_conv2 (Conv2D)        (None, 112, 112, 128)     147584    \n",
      "_________________________________________________________________\n",
      "block2_pool (MaxPooling2D)   (None, 56, 56, 128)       0         \n",
      "_________________________________________________________________\n",
      "block3_conv1 (Conv2D)        (None, 56, 56, 256)       295168    \n",
      "_________________________________________________________________\n",
      "block3_conv2 (Conv2D)        (None, 56, 56, 256)       590080    \n",
      "_________________________________________________________________\n",
      "block3_conv3 (Conv2D)        (None, 56, 56, 256)       590080    \n",
      "_________________________________________________________________\n",
      "block3_pool (MaxPooling2D)   (None, 28, 28, 256)       0         \n",
      "_________________________________________________________________\n",
      "block4_conv1 (Conv2D)        (None, 28, 28, 512)       1180160   \n",
      "_________________________________________________________________\n",
      "block4_conv2 (Conv2D)        (None, 28, 28, 512)       2359808   \n",
      "_________________________________________________________________\n",
      "block4_conv3 (Conv2D)        (None, 28, 28, 512)       2359808   \n",
      "_________________________________________________________________\n",
      "block4_pool (MaxPooling2D)   (None, 14, 14, 512)       0         \n",
      "_________________________________________________________________\n",
      "block5_conv1 (Conv2D)        (None, 14, 14, 512)       2359808   \n",
      "_________________________________________________________________\n",
      "block5_conv2 (Conv2D)        (None, 14, 14, 512)       2359808   \n",
      "_________________________________________________________________\n",
      "block5_conv3 (Conv2D)        (None, 14, 14, 512)       2359808   \n",
      "_________________________________________________________________\n",
      "block5_pool (MaxPooling2D)   (None, 7, 7, 512)         0         \n",
      "_________________________________________________________________\n",
      "flatten_1 (Flatten)          (None, 25088)             0         \n",
      "_________________________________________________________________\n",
      "dense_1 (Dense)              (None, 2)                 50178     \n",
      "=================================================================\n",
      "Total params: 14,764,866\n",
      "Trainable params: 50,178\n",
      "Non-trainable params: 14,714,688\n",
      "_________________________________________________________________\n"
     ]
    }
   ],
   "source": [
    "# Flattening out the last layer\n",
    "\n",
    "x = Flatten()(vgg.output) \n",
    "predictions = Dense(2,activation='softmax')(x) #Dense layer to predict wether their is pneumonia or not\n",
    "model = Model(inputs=vgg.input, outputs=predictions)\n",
    "model.summary()\n"
   ]
  },
  {
   "cell_type": "code",
   "execution_count": 6,
   "metadata": {},
   "outputs": [
    {
     "name": "stdout",
     "output_type": "stream",
     "text": [
      "Found 5216 images belonging to 2 classes.\n",
      "Found 624 images belonging to 2 classes.\n"
     ]
    }
   ],
   "source": [
    "# Making the data loader for training data\n",
    "train_gen = ImageDataGenerator(rescale=1/255.0,\n",
    "                               horizontal_flip=True,\n",
    "                               zoom_range=0.2,\n",
    "                               shear_range=0.2) \n",
    "\n",
    "\n",
    "# Making the data loader for validation data\n",
    "test_gen = ImageDataGenerator(rescale=1/255.0) \n",
    "\n",
    "\n",
    "# Function to make iterable object for training\n",
    "train_data_gen = train_gen.flow_from_directory(train_dir,\n",
    "                                               target_shape,\n",
    "                                               batch_size=16,\n",
    "                                               class_mode='categorical') \n",
    "\n",
    "# Function to make iterable object for training\n",
    "test_data_gen = train_gen.flow_from_directory(test_dir,\n",
    "                                               target_shape,\n",
    "                                               batch_size=16,\n",
    "                                               class_mode='categorical') "
   ]
  },
  {
   "cell_type": "markdown",
   "metadata": {},
   "source": [
    "### Compiling and Training the Model"
   ]
  },
  {
   "cell_type": "code",
   "execution_count": 13,
   "metadata": {
    "scrolled": true
   },
   "outputs": [
    {
     "name": "stdout",
     "output_type": "stream",
     "text": [
      "WARNING:tensorflow:sample_weight modes were coerced from\n",
      "  ...\n",
      "    to  \n",
      "  ['...']\n",
      "WARNING:tensorflow:sample_weight modes were coerced from\n",
      "  ...\n",
      "    to  \n",
      "  ['...']\n",
      "Train for 30 steps, validate for 20 steps\n",
      "Epoch 1/30\n",
      "30/30 [==============================] - 233s 8s/step - loss: 0.1462 - accuracy: 0.9479 - val_loss: 0.6283 - val_accuracy: 0.8594\n",
      "Epoch 2/30\n",
      "30/30 [==============================] - 232s 8s/step - loss: 0.1685 - accuracy: 0.9521 - val_loss: 0.9052 - val_accuracy: 0.7781\n",
      "Epoch 3/30\n",
      "30/30 [==============================] - 236s 8s/step - loss: 0.1647 - accuracy: 0.9542 - val_loss: 0.3593 - val_accuracy: 0.8969\n",
      "Epoch 4/30\n",
      "30/30 [==============================] - 233s 8s/step - loss: 0.2274 - accuracy: 0.9250 - val_loss: 0.3991 - val_accuracy: 0.8813\n",
      "Epoch 5/30\n",
      "30/30 [==============================] - 233s 8s/step - loss: 0.1178 - accuracy: 0.9604 - val_loss: 0.6033 - val_accuracy: 0.8813\n",
      "Epoch 6/30\n",
      "30/30 [==============================] - 233s 8s/step - loss: 0.1679 - accuracy: 0.9521 - val_loss: 1.8353 - val_accuracy: 0.7188\n",
      "Epoch 7/30\n",
      "30/30 [==============================] - 233s 8s/step - loss: 0.1584 - accuracy: 0.9438 - val_loss: 1.0335 - val_accuracy: 0.8219\n",
      "Epoch 8/30\n",
      "30/30 [==============================] - 233s 8s/step - loss: 0.1987 - accuracy: 0.9458 - val_loss: 0.6965 - val_accuracy: 0.8625\n",
      "Epoch 9/30\n",
      "30/30 [==============================] - 233s 8s/step - loss: 0.2276 - accuracy: 0.9396 - val_loss: 0.7445 - val_accuracy: 0.8625\n",
      "Epoch 10/30\n",
      "30/30 [==============================] - 238s 8s/step - loss: 0.1540 - accuracy: 0.9479 - val_loss: 0.3813 - val_accuracy: 0.8969\n",
      "Epoch 11/30\n",
      "30/30 [==============================] - 244s 8s/step - loss: 0.0942 - accuracy: 0.9583 - val_loss: 0.4050 - val_accuracy: 0.8906\n",
      "Epoch 12/30\n",
      "30/30 [==============================] - 246s 8s/step - loss: 0.0882 - accuracy: 0.9792 - val_loss: 1.0757 - val_accuracy: 0.7969\n",
      "Epoch 13/30\n",
      "30/30 [==============================] - 239s 8s/step - loss: 0.1860 - accuracy: 0.9521 - val_loss: 0.6986 - val_accuracy: 0.8750\n",
      "Epoch 14/30\n",
      "30/30 [==============================] - 240s 8s/step - loss: 0.1717 - accuracy: 0.9438 - val_loss: 0.3003 - val_accuracy: 0.9094\n",
      "Epoch 15/30\n",
      "30/30 [==============================] - 257s 9s/step - loss: 0.1732 - accuracy: 0.9542 - val_loss: 0.4950 - val_accuracy: 0.8781\n",
      "Epoch 16/30\n",
      "30/30 [==============================] - 252s 8s/step - loss: 0.0875 - accuracy: 0.9750 - val_loss: 0.4528 - val_accuracy: 0.8875\n",
      "Epoch 17/30\n",
      "30/30 [==============================] - 238s 8s/step - loss: 0.1455 - accuracy: 0.9583 - val_loss: 0.9970 - val_accuracy: 0.8062\n",
      "Epoch 18/30\n",
      "30/30 [==============================] - 237s 8s/step - loss: 0.0839 - accuracy: 0.9625 - val_loss: 0.6814 - val_accuracy: 0.8500\n",
      "Epoch 19/30\n",
      "30/30 [==============================] - 253s 8s/step - loss: 0.1020 - accuracy: 0.9604 - val_loss: 0.5613 - val_accuracy: 0.8594\n",
      "Epoch 20/30\n",
      "30/30 [==============================] - 255s 9s/step - loss: 0.1072 - accuracy: 0.9646 - val_loss: 0.7163 - val_accuracy: 0.8281\n",
      "Epoch 21/30\n",
      "30/30 [==============================] - 266s 9s/step - loss: 0.1126 - accuracy: 0.9625 - val_loss: 0.4070 - val_accuracy: 0.8969\n",
      "Epoch 22/30\n",
      "30/30 [==============================] - 245s 8s/step - loss: 0.0752 - accuracy: 0.9708 - val_loss: 0.6170 - val_accuracy: 0.8438\n",
      "Epoch 23/30\n",
      "30/30 [==============================] - 250s 8s/step - loss: 0.1043 - accuracy: 0.9625 - val_loss: 0.6107 - val_accuracy: 0.8594\n",
      "Epoch 24/30\n",
      "30/30 [==============================] - 238s 8s/step - loss: 0.0734 - accuracy: 0.9729 - val_loss: 0.9017 - val_accuracy: 0.8031\n",
      "Epoch 25/30\n",
      "30/30 [==============================] - 249s 8s/step - loss: 0.2263 - accuracy: 0.9333 - val_loss: 0.4293 - val_accuracy: 0.8844\n",
      "Epoch 26/30\n",
      "30/30 [==============================] - 273s 9s/step - loss: 0.0665 - accuracy: 0.9771 - val_loss: 0.3992 - val_accuracy: 0.9094\n",
      "Epoch 27/30\n",
      "30/30 [==============================] - 274s 9s/step - loss: 0.0551 - accuracy: 0.9708 - val_loss: 0.9402 - val_accuracy: 0.7906\n",
      "Epoch 28/30\n",
      "30/30 [==============================] - 266s 9s/step - loss: 0.0794 - accuracy: 0.9688 - val_loss: 0.7739 - val_accuracy: 0.8250\n",
      "Epoch 29/30\n",
      "30/30 [==============================] - 293s 10s/step - loss: 0.0897 - accuracy: 0.9688 - val_loss: 1.1101 - val_accuracy: 0.7563\n",
      "Epoch 30/30\n",
      "30/30 [==============================] - 287s 10s/step - loss: 0.0852 - accuracy: 0.9729 - val_loss: 0.5054 - val_accuracy: 0.8781\n"
     ]
    }
   ],
   "source": [
    "model.compile(loss='categorical_crossentropy',optimizer='adam',metrics=['accuracy'])\n",
    "hist = model.fit_generator(train_data_gen,\n",
    "        steps_per_epoch=30,\n",
    "        epochs=30,\n",
    "        validation_data=test_data_gen,\n",
    "        validation_steps=20)"
   ]
  },
  {
   "cell_type": "markdown",
   "metadata": {},
   "source": [
    "### Plotting the Accuracy and Loss curves"
   ]
  },
  {
   "cell_type": "code",
   "execution_count": 14,
   "metadata": {},
   "outputs": [
    {
     "data": {
      "image/png": "[encoded data removed]",
      "text/plain": [
       "<Figure size 432x288 with 1 Axes>"
      ]
     },
     "metadata": {},
     "output_type": "display_data"
    }
   ],
   "source": [
    "plt.style.use(\"ggplot\")\n",
    "plt.figure()\n",
    "plt.plot(hist.history[\"loss\"], label=\"train_loss\")\n",
    "plt.plot(hist.history[\"val_loss\"], label=\"val_loss\")\n",
    "plt.plot(hist.history[\"accuracy\"], label=\"train_acc\")\n",
    "plt.plot(hist.history[\"val_accuracy\"], label=\"val_acc\")\n",
    "plt.title(\"Model Training\")\n",
    "plt.xlabel(\"Epoch #\")\n",
    "plt.ylabel(\"Loss/Accuracy\")\n",
    "plt.legend()\n",
    "plt.savefig(\"epochs.png\")"
   ]
  },
  {
   "cell_type": "markdown",
   "metadata": {},
   "source": [
    "### Saving the Model"
   ]
  },
  {
   "cell_type": "code",
   "execution_count": 15,
   "metadata": {},
   "outputs": [],
   "source": [
    "model.save('model.h5')"
   ]
  },
  {
   "cell_type": "code",
   "execution_count": null,
   "metadata": {},
   "outputs": [],
   "source": []
  }
 ],
 "metadata": {
  "kernelspec": {
   "display_name": "Python 3",
   "language": "python",
   "name": "python3"
  },
  "language_info": {
   "codemirror_mode": {
    "name": "ipython",
    "version": 3
   },
   "file_extension": ".py",
   "mimetype": "text/x-python",
   "name": "python",
   "nbconvert_exporter": "python",
   "pygments_lexer": "ipython3",
   "version": "3.7.4"
  }
 },
 "nbformat": 4,
 "nbformat_minor": 4
}
